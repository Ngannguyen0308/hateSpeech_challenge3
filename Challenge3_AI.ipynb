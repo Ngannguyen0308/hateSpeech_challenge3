{
  "cells": [
    {
      "cell_type": "code",
      "execution_count": null,
      "metadata": {
        "id": "cv6yZfWokYWs"
      },
      "outputs": [],
      "source": [
        "import torch\n",
        "import pandas as pd\n",
        "import numpy as np\n",
        "from sklearn.model_selection import train_test_split\n",
        "from tensorflow.keras.models import Sequential\n",
        "from tensorflow.keras.layers import LSTM, Dense\n",
        "from transformers import AutoModel, AutoTokenizer"
      ]
    },
    {
      "cell_type": "code",
      "execution_count": null,
      "metadata": {
        "id": "2g1gy9K0kfs0"
      },
      "outputs": [],
      "source": [
        "df = pd.read_csv('data.csv')\n",
        "\n",
        "# Chia dữ liệu thành tập huấn luyện và tập kiểm tra\n",
        "train_texts, test_texts, train_labels, test_labels = train_test_split(df['free_text'], df['label_id'], test_size=0.2, random_state=42)\n",
        "\n",
        "# Tải mô hình PhoBERT và tokenizer\n",
        "phobert_model = AutoModel.from_pretrained(\"vinai/phobert-base\")\n",
        "tokenizer = AutoTokenizer.from_pretrained(\"vinai/phobert-base\")"
      ]
    },
    {
      "cell_type": "code",
      "execution_count": null,
      "metadata": {
        "id": "Jlzwnonulj_4"
      },
      "outputs": [],
      "source": [
        "def text_to_phobert_embedding(text, max_length=256):\n",
        "    tokens = tokenizer(text, return_tensors=\"pt\", truncation=True, max_length=max_length)\n",
        "    if 'input_ids' not in tokens or len(tokens['input_ids'][0]) == 0:\n",
        "        return np.zeros((1, phobert_model.config.hidden_size))\n",
        "\n",
        "    with torch.no_grad():\n",
        "        outputs = phobert_model(**tokens)\n",
        "\n",
        "    embeddings = outputs.last_hidden_state[:, 0, :].numpy()\n",
        "    return embeddings"
      ]
    },
    {
      "cell_type": "code",
      "execution_count": null,
      "metadata": {
        "id": "FNVTq6FcloE6"
      },
      "outputs": [],
      "source": [
        "train_texts = train_texts.astype(str).tolist()\n",
        "\n",
        "# Chuyển đổi tất cả văn bản thành biểu diễn của PhoBERT\n",
        "train_embeddings = np.array([text_to_phobert_embedding(text) for text in train_texts])\n",
        "\n",
        "test_texts = test_texts.astype(str).tolist()\n",
        "\n",
        "# Chuyển đổi tất cả văn bản thành biểu diễn của PhoBERT\n",
        "test_embeddings = np.array([text_to_phobert_embedding(text) for text in test_texts])"
      ]
    },
    {
      "cell_type": "code",
      "execution_count": null,
      "metadata": {
        "id": "CLpmCp33lraw"
      },
      "outputs": [],
      "source": [
        "# Xây dựng mô hình\n",
        "model = Sequential()\n",
        "model.add(LSTM(32, input_shape=(train_embeddings.shape[1], train_embeddings.shape[2])))\n",
        "model.add(Dense(1, activation='sigmoid'))\n"
      ]
    },
    {
      "cell_type": "code",
      "execution_count": null,
      "metadata": {
        "colab": {
          "base_uri": "https://localhost:8080/"
        },
        "id": "micUroHFmfRh",
        "outputId": "e2383af1-db11-44f4-b920-ae6b9a5d381c"
      },
      "outputs": [
        {
          "name": "stdout",
          "output_type": "stream",
          "text": [
            "Epoch 1/10\n",
            "8844/8844 [==============================] - 51s 6ms/step - loss: 0.4818 - accuracy: 0.7685\n",
            "Epoch 2/10\n",
            "8844/8844 [==============================] - 49s 6ms/step - loss: 0.4335 - accuracy: 0.7983\n",
            "Epoch 3/10\n",
            "8844/8844 [==============================] - 48s 5ms/step - loss: 0.4057 - accuracy: 0.8087\n",
            "Epoch 4/10\n",
            "8844/8844 [==============================] - 48s 5ms/step - loss: 0.3816 - accuracy: 0.8256\n",
            "Epoch 5/10\n",
            "8844/8844 [==============================] - 50s 6ms/step - loss: 0.3599 - accuracy: 0.8384\n",
            "Epoch 6/10\n",
            "8844/8844 [==============================] - 48s 5ms/step - loss: 0.3343 - accuracy: 0.8541\n",
            "Epoch 7/10\n",
            "8844/8844 [==============================] - 47s 5ms/step - loss: 0.3131 - accuracy: 0.8630\n",
            "Epoch 8/10\n",
            "8844/8844 [==============================] - 50s 6ms/step - loss: 0.2848 - accuracy: 0.8788\n",
            "Epoch 9/10\n",
            "8844/8844 [==============================] - 48s 5ms/step - loss: 0.2540 - accuracy: 0.8938\n",
            "Epoch 10/10\n",
            "8844/8844 [==============================] - 49s 6ms/step - loss: 0.2300 - accuracy: 0.9077\n"
          ]
        },
        {
          "data": {
            "text/plain": [
              "<keras.src.callbacks.History at 0x795aff3ae980>"
            ]
          },
          "execution_count": 14,
          "metadata": {},
          "output_type": "execute_result"
        }
      ],
      "source": [
        "# Biên soạn và đào tạo mô hình\n",
        "model.compile(optimizer='adam', loss='binary_crossentropy', metrics=['accuracy'])\n",
        "model.fit(train_embeddings, train_labels, epochs=10, batch_size=1)"
      ]
    },
    {
      "cell_type": "code",
      "execution_count": null,
      "metadata": {
        "colab": {
          "base_uri": "https://localhost:8080/"
        },
        "id": "shv_wo_UmhxY",
        "outputId": "b08caf42-f2b5-4432-d2dd-c0c29add2aaa"
      },
      "outputs": [
        {
          "name": "stdout",
          "output_type": "stream",
          "text": [
            "70/70 [==============================] - 1s 3ms/step\n"
          ]
        }
      ],
      "source": [
        "# Kiểm thử mô hình với dữ liệu kiểm tra\n",
        "predictions = model.predict(test_embeddings)\n",
        "predictions_binary = np.round(predictions).flatten()"
      ]
    },
    {
      "cell_type": "code",
      "execution_count": null,
      "metadata": {
        "colab": {
          "base_uri": "https://localhost:8080/"
        },
        "id": "fdGQvA1VmkDZ",
        "outputId": "06666153-d8a7-4205-8c84-b6e391bdeb6f"
      },
      "outputs": [
        {
          "name": "stdout",
          "output_type": "stream",
          "text": [
            "Accuracy: 79.38%\n"
          ]
        }
      ],
      "source": [
        "# Đánh giá mô hình\n",
        "accuracy = np.sum(predictions_binary == test_labels) / len(test_labels)\n",
        "print(f\"Accuracy: {accuracy * 100:.2f}%\")"
      ]
    },
    {
      "cell_type": "code",
      "execution_count": null,
      "metadata": {
        "colab": {
          "base_uri": "https://localhost:8080/"
        },
        "id": "0j7h1b7Cmma-",
        "outputId": "4bd9d640-a7d1-4967-eb9d-c611b62b9e60"
      },
      "outputs": [],
      "source": [
        "# Chuẩn bị câu cần kiểm tra\n",
        "sample_text = \"con đuỹ\"\n",
        "\n",
        "# Chuyển đổi câu thành biểu diễn của PhoBERT\n",
        "sample_tokens = tokenizer(sample_text, return_tensors=\"pt\", truncation=True, max_length=256)\n",
        "with torch.no_grad():\n",
        "    sample_outputs = phobert_model(**sample_tokens)\n",
        "\n",
        "# Lấy vector biểu diễn của [CLS] token\n",
        "sample_embedding = sample_outputs.last_hidden_state[:, 0, :].numpy()\n",
        "\n",
        "# Dự đoán bằng mô hình đã được đào tạo\n",
        "sample_prediction = model.predict(np.array([sample_embedding]))\n",
        "\n",
        "# In kết quả\n",
        "print(f\"Câu: {sample_text}\")\n",
        "print(f\"Dự đoán: {'Tục' if sample_prediction > 0.5 else 'Không tục'}\")"
      ]
    },
    {
      "cell_type": "code",
      "execution_count": null,
      "metadata": {
        "colab": {
          "base_uri": "https://localhost:8080/"
        },
        "id": "LAwERBEimoKs",
        "outputId": "2a6871ab-bfdb-4727-b4f7-6cfb8118ec9a"
      },
      "outputs": [
        {
          "name": "stderr",
          "output_type": "stream",
          "text": [
            "/usr/local/lib/python3.10/dist-packages/keras/src/engine/training.py:3079: UserWarning: You are saving your model as an HDF5 file via `model.save()`. This file format is considered legacy. We recommend using instead the native Keras format, e.g. `model.save('my_model.keras')`.\n",
            "  saving_api.save_model(\n"
          ]
        }
      ],
      "source": [
        "# Lưu mô hình\n",
        "model.save(\"vietnam_model.h5\")"
      ]
    }
  ],
  "metadata": {
    "colab": {
      "provenance": []
    },
    "kernelspec": {
      "display_name": "Python 3",
      "name": "python3"
    },
    "language_info": {
      "name": "python"
    }
  },
  "nbformat": 4,
  "nbformat_minor": 0
}
